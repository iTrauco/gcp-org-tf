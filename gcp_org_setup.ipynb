{
 "cells": [
  {
   "cell_type": "raw",
   "id": "7bc42e7c-ed97-4659-b420-2df70ca717c1",
   "metadata": {},
   "source": [
    "# GCP Organization Setup Recommendations\n",
    "## Author: Chris Trauco\n",
    "## Date: 2024-05-16"
   ]
  },
  {
   "cell_type": "markdown",
   "id": "525bc779",
   "metadata": {},
   "source": [
    "## Introduction\n",
    "This document provides recommendations and best practices for setting up a Google Cloud Platform (GCP) organization. It covers organization structure, IAM roles and permissions, and Terraform configurations to manage your GCP resources effectively.\n",
    "## Objectives\n",
    "- Define the optimal GCP organization structure\n",
    "- Recommend IAM roles and permissions\n",
    "- Provide Terraform configurations for automation and management"
   ]
  },
  {
   "cell_type": "markdown",
   "id": "312846e5",
   "metadata": {},
   "source": [
    "## GCP Organization Structure\n",
    "An effective organization structure is crucial for managing your GCP resources efficiently. The following structure is recommended:\n",
    "- **Organization**: The top-level container for your GCP resources.\n",
    "  - **Folders**: Logical groupings of projects. Recommended to separate folders by departments or teams.\n",
    "    - **Projects**: Individual projects containing resources. Recommended to separate projects by environment (e.g., development, staging, production).\n",
    "### Example Structure\n",
    "- Organization\n",
    "  - Folder: Department A\n",
    "    - Project: Development\n",
    "    - Project: Staging\n",
    "    - Project: Production\n",
    "  - Folder: Department B\n",
    "    - Project: Development\n",
    "    - Project: Staging\n",
    "    - Project: Production"
   ]
  },
  {
   "cell_type": "markdown",
   "id": "d1c8b654-b051-46e4-b794-485354bd7dd6",
   "metadata": {},
   "source": [
    "!pip3 install graphviz\n"
   ]
  },
  {
   "cell_type": "code",
   "execution_count": 2,
   "id": "fa0c5ba9",
   "metadata": {},
   "outputs": [
    {
     "ename": "ModuleNotFoundError",
     "evalue": "No module named 'graphviz'",
     "output_type": "error",
     "traceback": [
      "\u001b[0;31m---------------------------------------------------------------------------\u001b[0m",
      "\u001b[0;31mModuleNotFoundError\u001b[0m                       Traceback (most recent call last)",
      "Cell \u001b[0;32mIn[2], line 1\u001b[0m\n\u001b[0;32m----> 1\u001b[0m \u001b[38;5;28;01mimport\u001b[39;00m \u001b[38;5;21;01mgraphviz\u001b[39;00m\n\u001b[1;32m      3\u001b[0m \u001b[38;5;66;03m# Create a Graphviz diagram for the organization structure\u001b[39;00m\n\u001b[1;32m      4\u001b[0m dot \u001b[38;5;241m=\u001b[39m graphviz\u001b[38;5;241m.\u001b[39mDigraph(comment\u001b[38;5;241m=\u001b[39m\u001b[38;5;124m'\u001b[39m\u001b[38;5;124mGCP Organization Structure\u001b[39m\u001b[38;5;124m'\u001b[39m)\n",
      "\u001b[0;31mModuleNotFoundError\u001b[0m: No module named 'graphviz'"
     ]
    }
   ],
   "source": [
    "import graphviz\n",
    "\n",
    "# Create a Graphviz diagram for the organization structure\n",
    "dot = graphviz.Digraph(comment='GCP Organization Structure')\n",
    "dot.node('O', 'Organization')\n",
    "dot.node('FA', 'Folder: Department A')\n",
    "dot.node('FB', 'Folder: Department B')\n",
    "dot.node('DA', 'Project: Development (A)')\n",
    "dot.node('SA', 'Project: Staging (A)')\n",
    "dot.node('PA', 'Project: Production (A)')\n",
    "dot.node('DB', 'Project: Development (B)')\n",
    "dot.node('SB', 'Project: Staging (B)')\n",
    "dot.node('PB', 'Project: Production (B)')\n",
    "dot.edges(['OF', 'FA', 'FB'])\n",
    "dot.edges(['FA', 'DA', 'FA', 'SA', 'FA', 'PA'])\n",
    "dot.edges(['FB', 'DB', 'FB', 'SB', 'FB', 'PB'])\n",
    "dot.render('gcp_org_structure.gv', view=True)"
   ]
  },
  {
   "cell_type": "markdown",
   "id": "359dc0af",
   "metadata": {},
   "source": [
    "## IAM Roles and Permissions\n",
    "Properly defined IAM roles and permissions are essential for ensuring security and compliance. The following roles are recommended:\n",
    "- **Organization Admin**: Full control over the organization.\n",
    "- **Folder Admin**: Control over specific folders.\n",
    "- **Project Admin**: Control over specific projects.\n",
    "- **Viewer**: Read-only access to resources.\n",
    "### Example Role Assignments\n",
    "- Organization Admin: admin@example.com\n",
    "- Folder Admin: dept_a_admin@example.com, dept_b_admin@example.com\n",
    "- Project Admin: project_a_admin@example.com, project_b_admin@example.com\n",
    "- Viewer: viewer@example.com"
   ]
  },
  {
   "cell_type": "markdown",
   "id": "c15d6134",
   "metadata": {},
   "source": [
    "## Terraform Configuration\n",
    "Terraform is a powerful tool for automating the management of your GCP resources. The following Terraform configuration is recommended for setting up your organization structure and IAM roles.\n",
    "### Example Terraform Configuration\n",
    "```hcl\n",
    "provider \"google\" {\n",
    "  credentials = file(\"<path_to_service_account_key>\")\n",
    "  project     = \"<your_project_id>\"\n",
    "  region      = \"us-central1\"\n",
    "}\n",
    "resource \"google_organization\" \"org\" {\n",
    "  display_name = \"Example Organization\"\n",
    "  org_id       = \"<your_org_id>\"\n",
    "}\n",
    "resource \"google_folder\" \"department_a\" {\n",
    "  display_name = \"Department A\"\n",
    "  parent       = \"organizations/${google_organization.org.org_id}\"\n",
    "}\n",
    "resource \"google_folder\" \"department_b\" {\n",
    "  display_name = \"Department B\"\n",
    "  parent       = \"organizations/${google_organization.org.org_id}\"\n",
    "}\n",
    "resource \"google_project\" \"project_a\" {\n",
    "  name       = \"Project A\"\n",
    "  project_id = \"project-a\"\n",
    "  folder_id  = google_folder.department_a.id\n",
    "}\n",
    "resource \"google_project\" \"project_b\" {\n",
    "  name       = \"Project B\"\n",
    "  project_id = \"project-b\"\n",
    "  folder_id  = google_folder.department_b.id\n",
    "}\n",
    "resource \"google_project_iam_binding\" \"project_a_admin\" {\n",
    "  project = google_project.project_a.project_id\n",
    "  role    = \"roles/editor\"\n",
    "  members = [\"user:project_a_admin@example.com\"]\n",
    "}\n",
    "resource \"google_project_iam_binding\" \"project_b_admin\" {\n",
    "  project = google_project.project_b.project_id\n",
    "  role    = \"roles/editor\"\n",
    "  members = [\"user:project_b_admin@example.com\"]\n",
    "}\n",
    "```"
   ]
  },
  {
   "cell_type": "markdown",
   "id": "94b3652c",
   "metadata": {},
   "source": [
    "## Summary\n",
    "This document provided recommendations and best practices for setting up a GCP organization. By following these guidelines, you can ensure a well-structured, secure, and manageable GCP environment.\n",
    "For further information, please refer to the [Google Cloud Documentation](https://cloud.google.com/docs)."
   ]
  },
  {
   "cell_type": "markdown",
   "id": "681f3aed",
   "metadata": {},
   "source": [
    "## Additional Notes\n",
    "- Customize the Terraform configuration according to your specific requirements.\n",
    "- Regularly review and update IAM roles and permissions to maintain security.\n",
    "- Use GCP billing and cost management tools to monitor and control expenses."
   ]
  },
  {
   "cell_type": "markdown",
   "id": "07dd4d90",
   "metadata": {},
   "source": [
    "## Conclusion\n",
    "Setting up a GCP organization requires careful planning and adherence to best practices. This document serves as a comprehensive guide to help you achieve a secure and efficient GCP environment.\n",
    "Thank you for following this guide. If you have any questions, feel free to reach out.\n",
    "- [Your Name]\n",
    "- [Your Contact Information]"
   ]
  }
 ],
 "metadata": {
  "kernelspec": {
   "display_name": "Python 3 (ipykernel)",
   "language": "python",
   "name": "python3"
  },
  "language_info": {
   "codemirror_mode": {
    "name": "ipython",
    "version": 3
   },
   "file_extension": ".py",
   "mimetype": "text/x-python",
   "name": "python",
   "nbconvert_exporter": "python",
   "pygments_lexer": "ipython3",
   "version": "3.10.12"
  }
 },
 "nbformat": 4,
 "nbformat_minor": 5
}
